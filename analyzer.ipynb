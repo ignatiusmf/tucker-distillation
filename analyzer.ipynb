{
 "cells": [
  {
   "cell_type": "code",
   "execution_count": 1,
   "id": "2c18c579",
   "metadata": {},
   "outputs": [],
   "source": [
    "from toolbox.models import ResNet112, ResNet56\n",
    "from toolbox.data_loader import Cifar100\n",
    "\n",
    "import torch\n",
    "import torchvision\n",
    "import torchvision.transforms as transforms\n",
    "\n",
    "import tensorly as tl\n",
    "import numpy as np\n",
    "import matplotlib.pyplot as plt\n",
    "\n",
    "from rich import print as pprint\n",
    "from tqdm import trange\n",
    "\n",
    "device = \"cuda\"\n",
    "##########################"
   ]
  },
  {
   "cell_type": "code",
   "execution_count": 2,
   "id": "6eef284a",
   "metadata": {},
   "outputs": [],
   "source": [
    "tl.set_backend(\"pytorch\")\n",
    "def tucker(feature_map): #expects 4d\n",
    "    batch_size, channels, height, width = feature_map.shape\n",
    "    core, factors = tl.decomposition.tucker(feature_map, rank=[batch_size, 32, 8, 8])\n",
    "    return core\n"
   ]
  },
  {
   "cell_type": "code",
   "execution_count": 4,
   "id": "3cd880dd",
   "metadata": {},
   "outputs": [],
   "source": [
    "problem_fmap = torch.load(\"toolbox/problem_fm.pt\", map_location=device, weights_only=True)\n",
    "good_fmap = torch.load(\"toolbox/good_fm.pt\", map_location=device, weights_only=True)"
   ]
  },
  {
   "cell_type": "code",
   "execution_count": 11,
   "id": "8b06d111",
   "metadata": {},
   "outputs": [
    {
     "name": "stdout",
     "output_type": "stream",
     "text": [
      "torch.Size([128, 64, 8, 8])\n"
     ]
    }
   ],
   "source": [
    "for fmap in problem_fmap:\n",
    "    print(fmap.shape)\n",
    "\n",
    "\n",
    "    break\n",
    "    tuckered = tucker(fmap)"
   ]
  },
  {
   "cell_type": "code",
   "execution_count": 27,
   "id": "70a18bf9",
   "metadata": {},
   "outputs": [],
   "source": [
    "def visualize_processed_feature_map(feature_map):  # feature_map shape: [64,8,8]\n",
    "    pprint(feature_map)\n",
    "    feature_map = torch.mean(feature_map, dim=0, keepdim=True)  # Shape: [1, H, W]\n",
    "\n",
    "    feature_map = feature_map.view(1, -1)  # Shape: [1, H*W]\n",
    "    feature_map = torch.softmax(feature_map, dim=1)  # Shape: [1, H*W]\n",
    "    feature_map = feature_map.view(8, 8).cpu()  # Shape: [H, W]\n",
    "\n",
    "    plt.figure(figsize=(5, 5))\n",
    "    plt.imshow(feature_map, vmin=0)\n",
    "    plt.axis(\"off\")\n",
    "    plt.title(f\"Processed Feature Map for sample\")\n",
    "    plt.show()"
   ]
  },
  {
   "cell_type": "code",
   "execution_count": 28,
   "id": "a78ad9f2",
   "metadata": {},
   "outputs": [
    {
     "data": {
      "text/html": [
       "<pre style=\"white-space:pre;overflow-x:auto;line-height:normal;font-family:Menlo,'DejaVu Sans Mono',consolas,'Courier New',monospace\"><span style=\"color: #800080; text-decoration-color: #800080; font-weight: bold\">tensor</span><span style=\"font-weight: bold\">([[[</span>nan, nan, nan,  <span style=\"color: #808000; text-decoration-color: #808000\">...</span>, nan, nan, nan<span style=\"font-weight: bold\">]</span>,\n",
       "         <span style=\"font-weight: bold\">[</span>nan, nan, nan,  <span style=\"color: #808000; text-decoration-color: #808000\">...</span>, nan, nan, nan<span style=\"font-weight: bold\">]</span>,\n",
       "         <span style=\"font-weight: bold\">[</span>nan, nan, nan,  <span style=\"color: #808000; text-decoration-color: #808000\">...</span>, nan, nan, nan<span style=\"font-weight: bold\">]</span>,\n",
       "         <span style=\"color: #808000; text-decoration-color: #808000\">...</span>,\n",
       "         <span style=\"font-weight: bold\">[</span>nan, nan, nan,  <span style=\"color: #808000; text-decoration-color: #808000\">...</span>, nan, nan, nan<span style=\"font-weight: bold\">]</span>,\n",
       "         <span style=\"font-weight: bold\">[</span>nan, nan, nan,  <span style=\"color: #808000; text-decoration-color: #808000\">...</span>, nan, nan, nan<span style=\"font-weight: bold\">]</span>,\n",
       "         <span style=\"font-weight: bold\">[</span>nan, nan, nan,  <span style=\"color: #808000; text-decoration-color: #808000\">...</span>, nan, nan, nan<span style=\"font-weight: bold\">]]</span>,\n",
       "\n",
       "        <span style=\"font-weight: bold\">[[</span>nan, nan, nan,  <span style=\"color: #808000; text-decoration-color: #808000\">...</span>, nan, nan, nan<span style=\"font-weight: bold\">]</span>,\n",
       "         <span style=\"font-weight: bold\">[</span>nan, nan, nan,  <span style=\"color: #808000; text-decoration-color: #808000\">...</span>, nan, nan, nan<span style=\"font-weight: bold\">]</span>,\n",
       "         <span style=\"font-weight: bold\">[</span>nan, nan, nan,  <span style=\"color: #808000; text-decoration-color: #808000\">...</span>, nan, nan, nan<span style=\"font-weight: bold\">]</span>,\n",
       "         <span style=\"color: #808000; text-decoration-color: #808000\">...</span>,\n",
       "         <span style=\"font-weight: bold\">[</span>nan, nan, nan,  <span style=\"color: #808000; text-decoration-color: #808000\">...</span>, nan, nan, nan<span style=\"font-weight: bold\">]</span>,\n",
       "         <span style=\"font-weight: bold\">[</span>nan, nan, nan,  <span style=\"color: #808000; text-decoration-color: #808000\">...</span>, nan, nan, nan<span style=\"font-weight: bold\">]</span>,\n",
       "         <span style=\"font-weight: bold\">[</span>nan, nan, nan,  <span style=\"color: #808000; text-decoration-color: #808000\">...</span>, nan, nan, nan<span style=\"font-weight: bold\">]]</span>,\n",
       "\n",
       "        <span style=\"font-weight: bold\">[[</span>nan, nan, nan,  <span style=\"color: #808000; text-decoration-color: #808000\">...</span>, nan, nan, nan<span style=\"font-weight: bold\">]</span>,\n",
       "         <span style=\"font-weight: bold\">[</span>nan, nan, nan,  <span style=\"color: #808000; text-decoration-color: #808000\">...</span>, nan, nan, nan<span style=\"font-weight: bold\">]</span>,\n",
       "         <span style=\"font-weight: bold\">[</span>nan, nan, nan,  <span style=\"color: #808000; text-decoration-color: #808000\">...</span>, nan, nan, nan<span style=\"font-weight: bold\">]</span>,\n",
       "         <span style=\"color: #808000; text-decoration-color: #808000\">...</span>,\n",
       "         <span style=\"font-weight: bold\">[</span>nan, nan, nan,  <span style=\"color: #808000; text-decoration-color: #808000\">...</span>, nan, nan, nan<span style=\"font-weight: bold\">]</span>,\n",
       "         <span style=\"font-weight: bold\">[</span>nan, nan, nan,  <span style=\"color: #808000; text-decoration-color: #808000\">...</span>, nan, nan, nan<span style=\"font-weight: bold\">]</span>,\n",
       "         <span style=\"font-weight: bold\">[</span>nan, nan, nan,  <span style=\"color: #808000; text-decoration-color: #808000\">...</span>, nan, nan, nan<span style=\"font-weight: bold\">]]</span>,\n",
       "\n",
       "        <span style=\"color: #808000; text-decoration-color: #808000\">...</span>,\n",
       "\n",
       "        <span style=\"font-weight: bold\">[[</span>nan, nan, nan,  <span style=\"color: #808000; text-decoration-color: #808000\">...</span>, nan, nan, nan<span style=\"font-weight: bold\">]</span>,\n",
       "         <span style=\"font-weight: bold\">[</span>nan, nan, nan,  <span style=\"color: #808000; text-decoration-color: #808000\">...</span>, nan, nan, nan<span style=\"font-weight: bold\">]</span>,\n",
       "         <span style=\"font-weight: bold\">[</span>nan, nan, nan,  <span style=\"color: #808000; text-decoration-color: #808000\">...</span>, nan, nan, nan<span style=\"font-weight: bold\">]</span>,\n",
       "         <span style=\"color: #808000; text-decoration-color: #808000\">...</span>,\n",
       "         <span style=\"font-weight: bold\">[</span>nan, nan, nan,  <span style=\"color: #808000; text-decoration-color: #808000\">...</span>, nan, nan, nan<span style=\"font-weight: bold\">]</span>,\n",
       "         <span style=\"font-weight: bold\">[</span>nan, nan, nan,  <span style=\"color: #808000; text-decoration-color: #808000\">...</span>, nan, nan, nan<span style=\"font-weight: bold\">]</span>,\n",
       "         <span style=\"font-weight: bold\">[</span>nan, nan, nan,  <span style=\"color: #808000; text-decoration-color: #808000\">...</span>, nan, nan, nan<span style=\"font-weight: bold\">]]</span>,\n",
       "\n",
       "        <span style=\"font-weight: bold\">[[</span>nan, nan, nan,  <span style=\"color: #808000; text-decoration-color: #808000\">...</span>, nan, nan, nan<span style=\"font-weight: bold\">]</span>,\n",
       "         <span style=\"font-weight: bold\">[</span>nan, nan, nan,  <span style=\"color: #808000; text-decoration-color: #808000\">...</span>, nan, nan, nan<span style=\"font-weight: bold\">]</span>,\n",
       "         <span style=\"font-weight: bold\">[</span>nan, nan, nan,  <span style=\"color: #808000; text-decoration-color: #808000\">...</span>, nan, nan, nan<span style=\"font-weight: bold\">]</span>,\n",
       "         <span style=\"color: #808000; text-decoration-color: #808000\">...</span>,\n",
       "         <span style=\"font-weight: bold\">[</span>nan, nan, nan,  <span style=\"color: #808000; text-decoration-color: #808000\">...</span>, nan, nan, nan<span style=\"font-weight: bold\">]</span>,\n",
       "         <span style=\"font-weight: bold\">[</span>nan, nan, nan,  <span style=\"color: #808000; text-decoration-color: #808000\">...</span>, nan, nan, nan<span style=\"font-weight: bold\">]</span>,\n",
       "         <span style=\"font-weight: bold\">[</span>nan, nan, nan,  <span style=\"color: #808000; text-decoration-color: #808000\">...</span>, nan, nan, nan<span style=\"font-weight: bold\">]]</span>,\n",
       "\n",
       "        <span style=\"font-weight: bold\">[[</span>nan, nan, nan,  <span style=\"color: #808000; text-decoration-color: #808000\">...</span>, nan, nan, nan<span style=\"font-weight: bold\">]</span>,\n",
       "         <span style=\"font-weight: bold\">[</span>nan, nan, nan,  <span style=\"color: #808000; text-decoration-color: #808000\">...</span>, nan, nan, nan<span style=\"font-weight: bold\">]</span>,\n",
       "         <span style=\"font-weight: bold\">[</span>nan, nan, nan,  <span style=\"color: #808000; text-decoration-color: #808000\">...</span>, nan, nan, nan<span style=\"font-weight: bold\">]</span>,\n",
       "         <span style=\"color: #808000; text-decoration-color: #808000\">...</span>,\n",
       "         <span style=\"font-weight: bold\">[</span>nan, nan, nan,  <span style=\"color: #808000; text-decoration-color: #808000\">...</span>, nan, nan, nan<span style=\"font-weight: bold\">]</span>,\n",
       "         <span style=\"font-weight: bold\">[</span>nan, nan, nan,  <span style=\"color: #808000; text-decoration-color: #808000\">...</span>, nan, nan, nan<span style=\"font-weight: bold\">]</span>,\n",
       "         <span style=\"font-weight: bold\">[</span>nan, nan, nan,  <span style=\"color: #808000; text-decoration-color: #808000\">...</span>, nan, nan, nan<span style=\"font-weight: bold\">]]])</span>\n",
       "</pre>\n"
      ],
      "text/plain": [
       "\u001b[1;35mtensor\u001b[0m\u001b[1m(\u001b[0m\u001b[1m[\u001b[0m\u001b[1m[\u001b[0m\u001b[1m[\u001b[0mnan, nan, nan,  \u001b[33m...\u001b[0m, nan, nan, nan\u001b[1m]\u001b[0m,\n",
       "         \u001b[1m[\u001b[0mnan, nan, nan,  \u001b[33m...\u001b[0m, nan, nan, nan\u001b[1m]\u001b[0m,\n",
       "         \u001b[1m[\u001b[0mnan, nan, nan,  \u001b[33m...\u001b[0m, nan, nan, nan\u001b[1m]\u001b[0m,\n",
       "         \u001b[33m...\u001b[0m,\n",
       "         \u001b[1m[\u001b[0mnan, nan, nan,  \u001b[33m...\u001b[0m, nan, nan, nan\u001b[1m]\u001b[0m,\n",
       "         \u001b[1m[\u001b[0mnan, nan, nan,  \u001b[33m...\u001b[0m, nan, nan, nan\u001b[1m]\u001b[0m,\n",
       "         \u001b[1m[\u001b[0mnan, nan, nan,  \u001b[33m...\u001b[0m, nan, nan, nan\u001b[1m]\u001b[0m\u001b[1m]\u001b[0m,\n",
       "\n",
       "        \u001b[1m[\u001b[0m\u001b[1m[\u001b[0mnan, nan, nan,  \u001b[33m...\u001b[0m, nan, nan, nan\u001b[1m]\u001b[0m,\n",
       "         \u001b[1m[\u001b[0mnan, nan, nan,  \u001b[33m...\u001b[0m, nan, nan, nan\u001b[1m]\u001b[0m,\n",
       "         \u001b[1m[\u001b[0mnan, nan, nan,  \u001b[33m...\u001b[0m, nan, nan, nan\u001b[1m]\u001b[0m,\n",
       "         \u001b[33m...\u001b[0m,\n",
       "         \u001b[1m[\u001b[0mnan, nan, nan,  \u001b[33m...\u001b[0m, nan, nan, nan\u001b[1m]\u001b[0m,\n",
       "         \u001b[1m[\u001b[0mnan, nan, nan,  \u001b[33m...\u001b[0m, nan, nan, nan\u001b[1m]\u001b[0m,\n",
       "         \u001b[1m[\u001b[0mnan, nan, nan,  \u001b[33m...\u001b[0m, nan, nan, nan\u001b[1m]\u001b[0m\u001b[1m]\u001b[0m,\n",
       "\n",
       "        \u001b[1m[\u001b[0m\u001b[1m[\u001b[0mnan, nan, nan,  \u001b[33m...\u001b[0m, nan, nan, nan\u001b[1m]\u001b[0m,\n",
       "         \u001b[1m[\u001b[0mnan, nan, nan,  \u001b[33m...\u001b[0m, nan, nan, nan\u001b[1m]\u001b[0m,\n",
       "         \u001b[1m[\u001b[0mnan, nan, nan,  \u001b[33m...\u001b[0m, nan, nan, nan\u001b[1m]\u001b[0m,\n",
       "         \u001b[33m...\u001b[0m,\n",
       "         \u001b[1m[\u001b[0mnan, nan, nan,  \u001b[33m...\u001b[0m, nan, nan, nan\u001b[1m]\u001b[0m,\n",
       "         \u001b[1m[\u001b[0mnan, nan, nan,  \u001b[33m...\u001b[0m, nan, nan, nan\u001b[1m]\u001b[0m,\n",
       "         \u001b[1m[\u001b[0mnan, nan, nan,  \u001b[33m...\u001b[0m, nan, nan, nan\u001b[1m]\u001b[0m\u001b[1m]\u001b[0m,\n",
       "\n",
       "        \u001b[33m...\u001b[0m,\n",
       "\n",
       "        \u001b[1m[\u001b[0m\u001b[1m[\u001b[0mnan, nan, nan,  \u001b[33m...\u001b[0m, nan, nan, nan\u001b[1m]\u001b[0m,\n",
       "         \u001b[1m[\u001b[0mnan, nan, nan,  \u001b[33m...\u001b[0m, nan, nan, nan\u001b[1m]\u001b[0m,\n",
       "         \u001b[1m[\u001b[0mnan, nan, nan,  \u001b[33m...\u001b[0m, nan, nan, nan\u001b[1m]\u001b[0m,\n",
       "         \u001b[33m...\u001b[0m,\n",
       "         \u001b[1m[\u001b[0mnan, nan, nan,  \u001b[33m...\u001b[0m, nan, nan, nan\u001b[1m]\u001b[0m,\n",
       "         \u001b[1m[\u001b[0mnan, nan, nan,  \u001b[33m...\u001b[0m, nan, nan, nan\u001b[1m]\u001b[0m,\n",
       "         \u001b[1m[\u001b[0mnan, nan, nan,  \u001b[33m...\u001b[0m, nan, nan, nan\u001b[1m]\u001b[0m\u001b[1m]\u001b[0m,\n",
       "\n",
       "        \u001b[1m[\u001b[0m\u001b[1m[\u001b[0mnan, nan, nan,  \u001b[33m...\u001b[0m, nan, nan, nan\u001b[1m]\u001b[0m,\n",
       "         \u001b[1m[\u001b[0mnan, nan, nan,  \u001b[33m...\u001b[0m, nan, nan, nan\u001b[1m]\u001b[0m,\n",
       "         \u001b[1m[\u001b[0mnan, nan, nan,  \u001b[33m...\u001b[0m, nan, nan, nan\u001b[1m]\u001b[0m,\n",
       "         \u001b[33m...\u001b[0m,\n",
       "         \u001b[1m[\u001b[0mnan, nan, nan,  \u001b[33m...\u001b[0m, nan, nan, nan\u001b[1m]\u001b[0m,\n",
       "         \u001b[1m[\u001b[0mnan, nan, nan,  \u001b[33m...\u001b[0m, nan, nan, nan\u001b[1m]\u001b[0m,\n",
       "         \u001b[1m[\u001b[0mnan, nan, nan,  \u001b[33m...\u001b[0m, nan, nan, nan\u001b[1m]\u001b[0m\u001b[1m]\u001b[0m,\n",
       "\n",
       "        \u001b[1m[\u001b[0m\u001b[1m[\u001b[0mnan, nan, nan,  \u001b[33m...\u001b[0m, nan, nan, nan\u001b[1m]\u001b[0m,\n",
       "         \u001b[1m[\u001b[0mnan, nan, nan,  \u001b[33m...\u001b[0m, nan, nan, nan\u001b[1m]\u001b[0m,\n",
       "         \u001b[1m[\u001b[0mnan, nan, nan,  \u001b[33m...\u001b[0m, nan, nan, nan\u001b[1m]\u001b[0m,\n",
       "         \u001b[33m...\u001b[0m,\n",
       "         \u001b[1m[\u001b[0mnan, nan, nan,  \u001b[33m...\u001b[0m, nan, nan, nan\u001b[1m]\u001b[0m,\n",
       "         \u001b[1m[\u001b[0mnan, nan, nan,  \u001b[33m...\u001b[0m, nan, nan, nan\u001b[1m]\u001b[0m,\n",
       "         \u001b[1m[\u001b[0mnan, nan, nan,  \u001b[33m...\u001b[0m, nan, nan, nan\u001b[1m]\u001b[0m\u001b[1m]\u001b[0m\u001b[1m]\u001b[0m\u001b[1m)\u001b[0m\n"
      ]
     },
     "metadata": {},
     "output_type": "display_data"
    },
    {
     "data": {
      "image/png": "[encoded data removed]",
      "text/plain": [
       "<Figure size 500x500 with 1 Axes>"
      ]
     },
     "metadata": {},
     "output_type": "display_data"
    }
   ],
   "source": [
    "\n",
    "for i in range(128):\n",
    "    visualize_processed_feature_map(fmap[i].cpu().detach())\n",
    "    break"
   ]
  },
  {
   "cell_type": "code",
   "execution_count": null,
   "id": "5f311867",
   "metadata": {},
   "outputs": [],
   "source": []
  },
  {
   "cell_type": "code",
   "execution_count": 29,
   "id": "eec2a672",
   "metadata": {},
   "outputs": [],
   "source": [
    "import torch\n",
    "import torch.nn as nn\n",
    "import tensorly as tl\n",
    "from tensorly.tenalg import multi_mode_dot\n",
    "\n",
    "tl.set_backend('pytorch')  # Ensure PyTorch backend is used\n",
    "\n",
    "class DifferentiableTucker(nn.Module):\n",
    "    def __init__(self, input_shape, ranks):\n",
    "        \"\"\"\n",
    "        input_shape: Tuple of 4 dimensions (B, C, H, W)\n",
    "        ranks: Tuple of 4 integers for core tensor dimensions (R_b, R_c, R_h, R_w)\n",
    "        \"\"\"\n",
    "        super(DifferentiableTucker, self).__init__()\n",
    "        self.input_shape = input_shape\n",
    "        self.ranks = ranks\n",
    "\n",
    "        # Create learnable core tensor\n",
    "        self.core = nn.Parameter(torch.randn(*ranks))\n",
    "\n",
    "        # Create learnable factor matrices for each mode\n",
    "        self.factors = nn.ParameterList([\n",
    "            nn.Parameter(torch.randn(input_dim, rank))  # input_dim x rank\n",
    "            for input_dim, rank in zip(input_shape, ranks)\n",
    "        ])\n",
    "\n",
    "    def forward(self):\n",
    "        # Reconstruct the tensor from the Tucker parameters\n",
    "        x_reconstructed = multi_mode_dot(self.core, self.factors, modes=[0, 1, 2, 3])\n",
    "        return x_reconstructed"
   ]
  },
  {
   "cell_type": "code",
   "execution_count": 30,
   "id": "71d46980",
   "metadata": {},
   "outputs": [],
   "source": [
    "input_shape = (4, 64, 32, 32)\n",
    "ranks = (4, 32, 8, 8)\n",
    "\n",
    "tucker_layer = DifferentiableTucker(input_shape=input_shape, ranks=ranks)\n",
    "reconstructed = tucker_layer()"
   ]
  },
  {
   "cell_type": "code",
   "execution_count": null,
   "id": "dccf6dd2",
   "metadata": {},
   "outputs": [],
   "source": []
  },
  {
   "cell_type": "code",
   "execution_count": null,
   "id": "ded9774c",
   "metadata": {},
   "outputs": [
    {
     "name": "stdout",
     "output_type": "stream",
     "text": [
      "True\n"
     ]
    }
   ],
   "source": [
    "import tensorly as tl\n",
    "import torch\n",
    "\n",
    "tl.set_backend('pytorch')\n",
    "\n",
    "x = torch.randn(5, 5, 5, requires_grad=True)\n",
    "core, factors = tl.decomposition.tucker(x, rank=[3, 3, 3])\n",
    "\n",
    "# # Do some operation on core or reconstructed tensor\n",
    "# from tensorly import tucker_to_tensor\n",
    "# reconstructed = tucker_to_tensor((core, factors))\n",
    "loss = core.sum()\n",
    "loss.backward()\n",
    "\n",
    "print(x.grad is not None)  # True if everything worked correctly\n",
    "\n",
    "\n",
    "## CHECK MY LOSS FUNCTION< HY IS DALK FUNCKY"
   ]
  }
 ],
 "metadata": {
  "kernelspec": {
   "display_name": "Python 3",
   "language": "python",
   "name": "python3"
  },
  "language_info": {
   "codemirror_mode": {
    "name": "ipython",
    "version": 3
   },
   "file_extension": ".py",
   "mimetype": "text/x-python",
   "name": "python",
   "nbconvert_exporter": "python",
   "pygments_lexer": "ipython3",
   "version": "3.12.8"
  }
 },
 "nbformat": 4,
 "nbformat_minor": 5
}
