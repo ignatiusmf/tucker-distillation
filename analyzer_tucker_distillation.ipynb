{
 "cells": [
  {
   "cell_type": "code",
   "execution_count": 1,
   "id": "a8ae6431",
   "metadata": {},
   "outputs": [],
   "source": [
    "from toolbox.models import ResNet112, ResNet56\n",
    "from toolbox.data_loader import Cifar100\n",
    "from toolbox.utils import evaluate_model\n",
    "\n",
    "import torch\n",
    "import torch.nn as nn\n",
    "import torch.nn.functional as F\n",
    "\n",
    "import tensorly as tl\n",
    "from tensorly import tucker_to_tensor\n",
    "\n",
    "import matplotlib.pyplot as plt\n",
    "\n",
    "device = \"cuda\"\n",
    "BATCH_SIZE = 128\n"
   ]
  },
  {
   "cell_type": "code",
   "execution_count": 2,
   "id": "37331c17",
   "metadata": {},
   "outputs": [
    {
     "name": "stdout",
     "output_type": "stream",
     "text": [
      "Files already downloaded and verified\n",
      "Files already downloaded and verified\n",
      "TEST | Loss: 1.125 | Acc: 74.040 |\n"
     ]
    },
    {
     "data": {
      "text/plain": [
       "(1.1252409513992598, 74.04)"
      ]
     },
     "execution_count": 2,
     "metadata": {},
     "output_type": "execute_result"
    }
   ],
   "source": [
    "model_path = r\"toolbox/Cifar100_ResNet112.pth\"\n",
    "teacher = ResNet112(100).to(device)\n",
    "teacher.load_state_dict(torch.load(model_path, weights_only=True)[\"weights\"])\n",
    "teacher.eval()\n",
    "\n",
    "student = ResNet56(100).to(device)\n",
    "student.train()\n",
    "\n",
    "mean, std = (0.5071, 0.4867, 0.4409), (0.267, 0.256, 0.276) \n",
    "Data = Cifar100(BATCH_SIZE)\n",
    "trainloader, testloader = Data.trainloader, Data.testloader\n",
    "\n",
    "evaluate_model(teacher, testloader)"
   ]
  },
  {
   "cell_type": "code",
   "execution_count": 3,
   "id": "464e682a",
   "metadata": {},
   "outputs": [],
   "source": [
    "inputs, targets = next(iter(trainloader))\n",
    "inputs, targets = inputs.to(device), targets.to(device)\n",
    "\n",
    "teacher_outputs = teacher(inputs)\n",
    "student_outputs = student(inputs)\n",
    "\n",
    "active_outputs = teacher_outputs\n",
    "\n",
    "index = 0"
   ]
  },
  {
   "cell_type": "code",
   "execution_count": 4,
   "id": "4e368403",
   "metadata": {},
   "outputs": [
    {
     "name": "stdout",
     "output_type": "stream",
     "text": [
      "predicted:  turtle\n",
      "correct:  turtle\n",
      "confidence 0.9421891570091248\n"
     ]
    }
   ],
   "source": [
    "probs = torch.nn.functional.softmax(active_outputs[3], dim=1)\n",
    "confidence, predicted = torch.max(probs.data, 1)\n",
    "predicted_class_label = testloader.dataset.classes[predicted[index]]\n",
    "correct_class_label = testloader.dataset.classes[targets[index]]\n",
    "\n",
    "print('predicted: ', predicted_class_label)\n",
    "print('correct: ', correct_class_label)\n",
    "print('confidence', confidence[index].item())\n",
    "\n",
    "\n",
    "img = inputs[index].cpu() * torch.tensor(std).view(3, 1, 1) + torch.tensor(mean).view(3, 1, 1)\n",
    "img = img.permute(1, 2, 0).numpy()"
   ]
  },
  {
   "cell_type": "code",
   "execution_count": 5,
   "id": "dfd6d42f",
   "metadata": {},
   "outputs": [],
   "source": [
    "\n",
    "tl.set_backend(\"pytorch\")\n",
    "def tucker(feature_map): #expects 4d\n",
    "    batch_size, channels, height, width = feature_map.shape\n",
    "    core, factors = tl.decomposition.tucker(feature_map, rank=[BATCH_SIZE, 24, 6, 6])\n",
    "    return core, factors\n",
    "\n",
    "def compute_core(feature_map, factors):\n",
    "    return tl.tenalg.multi_mode_dot(feature_map, [f.T for f in factors], modes=[0, 1, 2, 3])\n",
    "\n",
    "\n"
   ]
  },
  {
   "cell_type": "code",
   "execution_count": 6,
   "id": "7f821424",
   "metadata": {},
   "outputs": [],
   "source": [
    "teacher_core, teacher_factors = tucker(teacher_outputs[2])\n",
    "student_core = compute_core(student_outputs[2], teacher_factors)\n",
    "\n",
    "teacher_reconstructed = tucker_to_tensor((teacher_core, teacher_factors))\n",
    "student_reconstructed = tucker_to_tensor((student_core, teacher_factors))"
   ]
  },
  {
   "cell_type": "code",
   "execution_count": 7,
   "id": "0e32d634",
   "metadata": {},
   "outputs": [],
   "source": [
    "def show_fmap(fmap):\n",
    "    size = 2\n",
    "    fig, axs = plt.subplots(size, size)  # You can adjust the figsize as needed\n",
    "    for i in range(size):\n",
    "        for j in range(size):\n",
    "            axs[i,j].matshow(fmap[i], vmin=0, vmax=10)\n",
    "            axs[i,j].axis('off')  # Hide axis for clarity\n",
    "\n",
    "    plt.tight_layout()\n",
    "    plt.show()"
   ]
  },
  {
   "cell_type": "code",
   "execution_count": 8,
   "id": "9c6824e1",
   "metadata": {},
   "outputs": [
    {
     "data": {
      "image/png": "[encoded data removed]",
      "text/plain": [
       "<Figure size 640x480 with 4 Axes>"
      ]
     },
     "metadata": {},
     "output_type": "display_data"
    },
    {
     "data": {
      "image/png": "[encoded data removed]",
      "text/plain": [
       "<Figure size 640x480 with 4 Axes>"
      ]
     },
     "metadata": {},
     "output_type": "display_data"
    },
    {
     "data": {
      "image/png": "[encoded data removed]",
      "text/plain": [
       "<Figure size 640x480 with 4 Axes>"
      ]
     },
     "metadata": {},
     "output_type": "display_data"
    },
    {
     "data": {
      "image/png": "[encoded data removed]",
      "text/plain": [
       "<Figure size 640x480 with 4 Axes>"
      ]
     },
     "metadata": {},
     "output_type": "display_data"
    }
   ],
   "source": [
    "teacher_sample = teacher_outputs[2][0].detach().cpu()\n",
    "teacher_reconstructed_sample = teacher_reconstructed[0].detach().cpu()\n",
    "\n",
    "\n",
    "student_sample = student_outputs[2][0].detach().cpu()\n",
    "student_reconstructed_sample = student_reconstructed[0].detach().cpu()\n",
    "\n",
    "for fmap in [teacher_sample, teacher_reconstructed_sample, student_sample, student_reconstructed_sample]:\n",
    "    show_fmap(fmap)\n",
    "\n"
   ]
  },
  {
   "cell_type": "markdown",
   "id": "d874a21b",
   "metadata": {},
   "source": [
    "# TESTING"
   ]
  },
  {
   "cell_type": "code",
   "execution_count": null,
   "id": "cfcee41e",
   "metadata": {},
   "outputs": [],
   "source": [
    "from toolbox.models import ResNet112, ResNet56\n",
    "from toolbox.data_loader import Cifar100\n",
    "from toolbox.utils import plot_the_things, evaluate_model\n",
    "\n",
    "import torch\n",
    "import torch.optim as optim\n",
    "import torch.nn.functional as F\n",
    "import matplotlib.pyplot as plt\n",
    "import numpy as np\n",
    "\n",
    "import tensorly as tl\n",
    "\n",
    "from pathlib import Path\n",
    "import argparse\n",
    "\n",
    "DEVICE = \"cuda\"\n",
    "\n",
    "# Hyperparameters\n",
    "EPOCHS = 150\n",
    "BETA = 125\n",
    "BATCH_SIZE = 128*4"
   ]
  },
  {
   "cell_type": "code",
   "execution_count": 9,
   "id": "37d72dd1",
   "metadata": {},
   "outputs": [],
   "source": [
    "\n",
    "# Functions\n",
    "tl.set_backend(\"pytorch\")\n",
    "def tucker(feature_map, ranks=[BATCH_SIZE, 32, 8, 8]): \n",
    "    core, factors = tl.decomposition.tucker(feature_map, rank=ranks)\n",
    "    return core, factors\n",
    "\n",
    "def compute_core(feature_map, factors):\n",
    "    return tl.tenalg.multi_mode_dot(feature_map, [f.T for f in factors], modes=[0, 1, 2, 3])\n",
    "\n",
    "def FT(x):\n",
    "    return F.normalize(x.reshape(x.size(0), -1))\n",
    "\n",
    "\n",
    "\n",
    "\n",
    "def feature_map_distillation(teacher_outputs, student_outputs, targets):\n",
    "    beta = 125\n",
    "    teacher_fmap = teacher_outputs[2]\n",
    "    student_fmap = student_outputs[2]\n",
    "    brute_loss = 125 * F.l1_loss(FT(teacher_fmap), FT(student_fmap))\n",
    "    hard_loss = F.cross_entropy(student_outputs[3], targets)\n",
    "    return brute_loss + hard_loss"
   ]
  },
  {
   "cell_type": "code",
   "execution_count": 4,
   "id": "add434b8",
   "metadata": {},
   "outputs": [
    {
     "name": "stdout",
     "output_type": "stream",
     "text": [
      "Files already downloaded and verified\n",
      "Files already downloaded and verified\n"
     ]
    }
   ],
   "source": [
    "\n",
    "# Model setup\n",
    "model_path = r\"toolbox/Cifar100_ResNet112.pth\"\n",
    "teacher = ResNet112(100).to(DEVICE)\n",
    "teacher.load_state_dict(torch.load(model_path, weights_only=True)[\"weights\"])\n",
    "\n",
    "student = ResNet56(100).to(DEVICE)\n",
    "\n",
    "Data = Cifar100(BATCH_SIZE)\n",
    "trainloader, testloader = Data.trainloader, Data.testloader\n",
    "\n",
    "optimizer = optim.SGD(student.parameters(), lr=0.1, momentum=0.9, weight_decay=5e-4)\n",
    "scheduler = optim.lr_scheduler.CosineAnnealingLR(optimizer, T_max=EPOCHS)"
   ]
  },
  {
   "cell_type": "code",
   "execution_count": 6,
   "id": "cbe19181",
   "metadata": {},
   "outputs": [
    {
     "data": {
      "text/plain": [
       "ResNet56"
      ]
     },
     "execution_count": 6,
     "metadata": {},
     "output_type": "execute_result"
    }
   ],
   "source": [
    "inputs, targets = next(iter(trainloader))\n",
    "inputs, targets = inputs.to(DEVICE), targets.to(DEVICE)\n",
    "\n",
    "teacher_outputs = teacher(inputs)\n",
    "student_outputs = student(inputs)\n",
    "\n",
    "teacher.eval()\n",
    "student.train()"
   ]
  },
  {
   "cell_type": "code",
   "execution_count": null,
   "id": "6d55bf10",
   "metadata": {},
   "outputs": [],
   "source": [
    "# Arguments\n",
    "\n",
    "\n",
    "experiment_path = \"test\"\n",
    "Path(f\"experiments/{experiment_path}\").mkdir(parents=True, exist_ok=True)\n"
   ]
  },
  {
   "cell_type": "code",
   "execution_count": 22,
   "id": "66a99955",
   "metadata": {},
   "outputs": [],
   "source": [
    "def show_fmap(fmap):\n",
    "    fmap = fmap[0].detach().cpu().numpy()\n",
    "    print(fmap.shape)\n",
    "    fig, axes = plt.subplots(8, 8, figsize=(5, 5))  # You can adjust the figsize as needed\n",
    "    for i in range(64):\n",
    "        row = i // 8\n",
    "        col = i % 8 \n",
    "        ax = axes[row, col]\n",
    "        ax.matshow(fmap[i])\n",
    "        ax.axis('off')  # Hide axis for clarity\n",
    "\n",
    "    plt.tight_layout()\n",
    "    plt.show()"
   ]
  },
  {
   "cell_type": "code",
   "execution_count": 26,
   "id": "4b42b20d",
   "metadata": {},
   "outputs": [
    {
     "name": "stdout",
     "output_type": "stream",
     "text": [
      "(64, 8, 8)\n"
     ]
    },
    {
     "data": {
      "image/png": "[encoded data removed]",
      "text/plain": [
       "<Figure size 500x500 with 64 Axes>"
      ]
     },
     "metadata": {},
     "output_type": "display_data"
    },
    {
     "name": "stdout",
     "output_type": "stream",
     "text": [
      "(64, 8, 8)\n"
     ]
    },
    {
     "data": {
      "image/png": "[encoded data removed]",
      "text/plain": [
       "<Figure size 500x500 with 64 Axes>"
      ]
     },
     "metadata": {},
     "output_type": "display_data"
    }
   ],
   "source": [
    "def tucker_distillation(teacher_outputs, student_outputs, targets, ranks=None):\n",
    "    teacher_fmap = teacher_outputs[2]\n",
    "    student_fmap = student_outputs[2]\n",
    "\n",
    "    teacher_core , teacher_factors = tucker(teacher_fmap, ranks)\n",
    "    student_core = compute_core(student_fmap, teacher_factors)\n",
    "\n",
    "    tucker_loss = BETA * F.l1_loss(FT(teacher_core), FT(student_core))\n",
    "    hard_loss = F.cross_entropy(student_outputs[3], targets)\n",
    "    return tucker_loss + hard_loss\n",
    "\n",
    "def tucker_recomp_distillation(teacher_outputs, student_outputs, targets,recomp_target,ranks=None): # Decomposes and recomposes teacher feature map\n",
    "    teacher_fmap = teacher_outputs[2]\n",
    "    student_fmap = student_outputs[2]\n",
    "\n",
    "    teacher_core , teacher_factors = tucker(teacher_fmap, ranks)\n",
    "    if recomp_target == 'teacher':\n",
    "        teacher_reconstructed = tl.tucker_to_tensor((teacher_core, teacher_factors))\n",
    "        show_fmap(teacher_reconstructed)\n",
    "        show_fmap(student_fmap)\n",
    "        brute_loss = 125 * F.l1_loss(FT(teacher_reconstructed), FT(student_fmap))\n",
    "    elif recomp_target == 'student':\n",
    "        student_core = compute_core(student_fmap, teacher_factors)\n",
    "        student_reconstructed = tl.tucker_to_tensor((student_core, teacher_factors))\n",
    "        show_fmap(teacher_fmap)\n",
    "        show_fmap(student_reconstructed)\n",
    "        brute_loss = 125 * F.l1_loss(FT(teacher_fmap), FT(student_reconstructed))\n",
    "    elif recomp_target == 'both':\n",
    "        student_core = compute_core(student_fmap, teacher_factors)\n",
    "        teacher_reconstructed = tl.tucker_to_tensor((teacher_core, teacher_factors))\n",
    "        student_reconstructed = tl.tucker_to_tensor((student_core, teacher_factors))\n",
    "        show_fmap(teacher_reconstructed)\n",
    "        show_fmap(student_reconstructed)\n",
    "        brute_loss = 125 * F.l1_loss(FT(teacher_reconstructed), FT(student_reconstructed))\n",
    "\n",
    "    hard_loss = F.cross_entropy(student_outputs[3], targets)\n",
    "    return brute_loss + hard_loss\n",
    "\n",
    "\n",
    "\n",
    "Distillation = tucker_recomp_distillation\n",
    "Ranks = [BATCH_SIZE, 16, 4, 4]\n",
    "Recomp_target = 'both'\n",
    "\n",
    "if Distillation.__name__ == 'feature_map_distillation':\n",
    "    loss = Distillation(teacher_outputs, student_outputs, targets)\n",
    "else:\n",
    "    if Distillation.__name__ == 'tucker_recomp_distillation':\n",
    "        loss = Distillation(teacher_outputs, student_outputs, targets, Recomp_target, Ranks)\n",
    "    else:\n",
    "        loss = Distillation(teacher_outputs, student_outputs, targets, Ranks)"
   ]
  }
 ],
 "metadata": {
  "kernelspec": {
   "display_name": "Python 3",
   "language": "python",
   "name": "python3"
  },
  "language_info": {
   "codemirror_mode": {
    "name": "ipython",
    "version": 3
   },
   "file_extension": ".py",
   "mimetype": "text/x-python",
   "name": "python",
   "nbconvert_exporter": "python",
   "pygments_lexer": "ipython3",
   "version": "3.12.8"
  }
 },
 "nbformat": 4,
 "nbformat_minor": 5
}
